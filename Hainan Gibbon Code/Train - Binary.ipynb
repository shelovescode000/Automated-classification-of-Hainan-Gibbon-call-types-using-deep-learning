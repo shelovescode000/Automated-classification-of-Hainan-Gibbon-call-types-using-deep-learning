{
 "cells": [
  {
   "cell_type": "markdown",
   "metadata": {
    "id": "oon2HK4QSa-1"
   },
   "source": [
    "# Training_BinaryCase\n",
    "\n",
    "\n",
    "**Paper:** Bioacoustic classification of Hainan Gibbon call types using Deep Learning\n",
    "\n",
    "**Code Date:** April 2022\n",
    "\n",
    "**Repository:** https://github.com/shelovescode000/Automated-classification-of-Hainan-Gibbon-call-types-using-deep-learning\n",
    "\n",
    "**Notebook description:** Train a CNN on the augmented spectrogram images.\n",
    "\n",
    "<hr>\n",
    "\n",
    "**Note 1: Code was adapted from https://github.com/emmanueldufourq/GibbonClassifier.**\n",
    "\n",
    "\n",
    "<hr>\n",
    "\n"
   ]
  },
  {
   "cell_type": "code",
   "execution_count": null,
   "metadata": {
    "id": "mdq8tZM_Sa--"
   },
   "outputs": [],
   "source": [
    "#I created a train binary case for the binary model."
   ]
  },
  {
   "cell_type": "code",
   "execution_count": 1,
   "metadata": {
    "id": "IGTJrSMGSa_C",
    "scrolled": true
   },
   "outputs": [],
   "source": [
    "from Train_Helper_Binary import *"
   ]
  },
  {
   "cell_type": "markdown",
   "metadata": {
    "id": "v2ePR3xySa_D"
   },
   "source": [
    "## Parameters"
   ]
  },
  {
   "cell_type": "code",
   "execution_count": 2,
   "metadata": {
    "id": "MUxe-4QMSa_F"
   },
   "outputs": [],
   "source": [
    "audio_directory = 'Raw_Data/Train/'\n",
    "timestamp_directory = 'Call_Labels/'\n",
    "save_location = 'Pickled_Data/'\n",
    "augment_directory = 'Augmented_Data/'\n",
    "augment_image_directory = 'Augmented_Image_Data/'\n",
    "training_file = 'Training_Files.txt'\n",
    "\n",
    "audio_directory_validation = 'Raw_Data/Validation/'\n",
    "timestamp_directory_validation = 'Call_Labels_Validation/'\n",
    "save_location_validation = 'Pickled_Data_Validation/'\n",
    "augment_directory_validation = 'Augmented_Data_Validation/'\n",
    "augment_image_directory_validation = 'Augmented_Image_Data_Validation/'\n",
    "validation_file = 'Validation_Files.txt'\n",
    "\n",
    "audio_directory_testing = 'Raw_Data/Test/'\n",
    "timestamp_directory_testing = 'Call_Labels_Testing/'\n",
    "save_location_testing = 'Pickled_Data_Testing/'\n",
    "augment_directory_testing = 'Images_Testing/'\n",
    "augment_image_directory_testing = 'Images_Testing2/'\n",
    "testing_file = 'Testing_Files.txt'\n",
    "\n",
    "sample_rate = 4800\n",
    "number_seconds_to_extract = 10\n",
    "seed = 42\n",
    "number_iterations = 1\n",
    "augmentation_probability = 1.0\n",
    "augmentation_amount_noise = 2\n",
    "augmentation_amount_gibbon = 10\n",
    "\n",
    "sample_rate = 4800\n",
    "number_seconds_to_extract = 10\n",
    "seed = 42\n",
    "number_iterations = 1\n",
    "augmentation_probability = 1.0\n",
    "augmentation_amount_noise = 2\n",
    "augmentation_amount_gibbon = 10"
   ]
  },
  {
   "cell_type": "markdown",
   "metadata": {
    "id": "GhVS_FYFSa_J"
   },
   "source": [
    "## Extract segments, preprocessing and augment all training files"
   ]
  },
  {
   "cell_type": "code",
   "execution_count": null,
   "metadata": {
    "id": "Rq4gF4gESa_L",
    "outputId": "d54c46c5-59a2-4186-83db-3243e01918be"
   },
   "outputs": [],
   "source": [
    "execute_preprocessing_all_files(training_file, audio_directory, \n",
    "                            sample_rate, timestamp_directory,\n",
    "                         \n",
    "                                number_seconds_to_extract, save_location,\n",
    "                            augmentation_amount_noise, augmentation_probability, \n",
    "                            augmentation_amount_gibbon, seed, augment_directory, augment_image_directory,\n",
    "                            number_iterations)  "
   ]
  },
  {
   "cell_type": "code",
   "execution_count": null,
   "metadata": {
    "id": "44RNiL0HSa_R"
   },
   "outputs": [],
   "source": []
  },
  {
   "cell_type": "markdown",
   "metadata": {
    "id": "jBQH6PbNSa_T"
   },
   "source": [
    "## Begin training"
   ]
  },
  {
   "cell_type": "code",
   "execution_count": 3,
   "metadata": {
    "id": "3HGmGt0VSa_U"
   },
   "outputs": [],
   "source": [
    "from sklearn.utils import shuffle"
   ]
  },
  {
   "cell_type": "code",
   "execution_count": 4,
   "metadata": {
    "id": "AN94gzqRSa_V"
   },
   "outputs": [
    {
     "name": "stdout",
     "output_type": "stream",
     "text": [
      "Loading data...\n",
      "\n",
      "----------------------------------\n",
      "Reading file: HGSM3C_0+1_20150806_052100.wav\n",
      "Reading file gibbon augmented file:  HGSM3C_0+1_20150806_052100\n",
      "Reading non-gibbon augmented file: HGSM3C_0+1_20150806_052100\n",
      "\n",
      "----------------------------------\n",
      "Reading file: HGSM3C_0+1_20150807_052200.wav\n",
      "Reading file gibbon augmented file:  HGSM3C_0+1_20150807_052200\n",
      "Reading non-gibbon augmented file: HGSM3C_0+1_20150807_052200\n",
      "\n",
      "----------------------------------\n",
      "Reading file: HGSM3C_0+1_20150811_052300.wav\n",
      "Reading file gibbon augmented file:  HGSM3C_0+1_20150811_052300\n",
      "Reading non-gibbon augmented file: HGSM3C_0+1_20150811_052300\n",
      "\n",
      "----------------------------------\n",
      "Reading file: HGSM3C_0+1_20160501_051500.wav\n",
      "Reading file gibbon augmented file:  HGSM3C_0+1_20160501_051500\n",
      "Reading non-gibbon augmented file: HGSM3C_0+1_20160501_051500\n",
      "\n",
      "----------------------------------\n",
      "Reading file: HGSM3C_0+1_20160517_050800.wav\n",
      "Reading file gibbon augmented file:  HGSM3C_0+1_20160517_050800\n",
      "Reading non-gibbon augmented file: HGSM3C_0+1_20160517_050800\n",
      "\n",
      "----------------------------------\n",
      "Reading file: HGSM3C_0+1_20160518_050700.wav\n",
      "Reading file gibbon augmented file:  HGSM3C_0+1_20160518_050700\n",
      "Reading non-gibbon augmented file: HGSM3C_0+1_20160518_050700\n",
      "\n",
      "----------------------------------\n",
      "Reading file: HGSM3C_0+1_20160519_050700.wav\n",
      "Reading file gibbon augmented file:  HGSM3C_0+1_20160519_050700\n",
      "Reading non-gibbon augmented file: HGSM3C_0+1_20160519_050700\n",
      "\n",
      "----------------------------------\n",
      "Reading file: HGSM3C_0+1_20150804_052100.wav\n",
      "Reading file gibbon augmented file:  HGSM3C_0+1_20150804_052100\n",
      "Reading non-gibbon augmented file: HGSM3C_0+1_20150804_052100\n",
      "\n",
      "----------------------------------\n",
      "Reading file: HGSM3C_0+1_20150805_052100.wav\n",
      "Reading file gibbon augmented file:  HGSM3C_0+1_20150805_052100\n",
      "Reading non-gibbon augmented file: HGSM3C_0+1_20150805_052100\n",
      "\n",
      "----------------------------------\n",
      "Reading file: HGSM3C_0+1_20150810_052200.wav\n",
      "Reading file gibbon augmented file:  HGSM3C_0+1_20150810_052200\n",
      "Reading non-gibbon augmented file: HGSM3C_0+1_20150810_052200\n",
      "\n",
      "----------------------------------\n",
      "Reading file: HGSM3C_0+1_20160520_050700.wav\n",
      "Reading file gibbon augmented file:  HGSM3C_0+1_20160520_050700\n",
      "Reading non-gibbon augmented file: HGSM3C_0+1_20160520_050700\n",
      "\n",
      "----------------------------------\n",
      "Reading file: HGSM3C_0+1_20150812_052300.wav\n",
      "Reading file gibbon augmented file:  HGSM3C_0+1_20150812_052300\n",
      "Reading non-gibbon augmented file: HGSM3C_0+1_20150812_052300\n",
      "\n",
      "----------------------------------\n",
      "Reading file: HGSM3A_0+1_20150715_051400.wav\n",
      "Reading file gibbon augmented file:  HGSM3A_0+1_20150715_051400\n",
      "Reading non-gibbon augmented file: HGSM3A_0+1_20150715_051400\n",
      "\n",
      "----------------------------------\n",
      "Reading file: HGSM3A_0+1_20160304_060000.wav\n",
      "Reading file gibbon augmented file:  HGSM3A_0+1_20160304_060000\n",
      "Reading non-gibbon augmented file: HGSM3A_0+1_20160304_060000\n",
      "\n",
      "----------------------------------\n",
      "Reading file: HGSM3A_0+1_20160309_055600.wav\n",
      "Reading file gibbon augmented file:  HGSM3A_0+1_20160309_055600\n",
      "Reading non-gibbon augmented file: HGSM3A_0+1_20160309_055600\n",
      "\n",
      "----------------------------------\n",
      "Reading file: HGSM3A_0+1_20160311_055500.wav\n",
      "Reading file gibbon augmented file:  HGSM3A_0+1_20160311_055500\n",
      "Reading non-gibbon augmented file: HGSM3A_0+1_20160311_055500\n",
      "\n",
      "----------------------------------\n",
      "Reading file: HGSM3A_0+1_20160328_054100.wav\n",
      "Reading file gibbon augmented file:  HGSM3A_0+1_20160328_054100\n",
      "Reading non-gibbon augmented file: HGSM3A_0+1_20160328_054100\n",
      "\n",
      "----------------------------------\n",
      "Reading file: HGSM3A_0+1_20160329_054000.wav\n",
      "Reading file gibbon augmented file:  HGSM3A_0+1_20160329_054000\n",
      "Reading non-gibbon augmented file: HGSM3A_0+1_20160329_054000\n",
      "\n",
      "----------------------------------\n",
      "Reading file: HGSM3A_0+1_20160330_053900.wav\n",
      "Reading file gibbon augmented file:  HGSM3A_0+1_20160330_053900\n",
      "Reading non-gibbon augmented file: HGSM3A_0+1_20160330_053900\n",
      "\n",
      "----------------------------------\n",
      "Reading file: HGSM3AB_0+1_20160316_055100.wav\n",
      "Reading file gibbon augmented file:  HGSM3AB_0+1_20160316_055100\n",
      "Reading non-gibbon augmented file: HGSM3AB_0+1_20160316_055100\n",
      "\n",
      "----------------------------------\n",
      "Reading file: HGSM3B_0+1_20150617_050600.wav\n",
      "Reading file gibbon augmented file:  HGSM3B_0+1_20150617_050600\n",
      "Reading non-gibbon augmented file: HGSM3B_0+1_20150617_050600\n",
      "\n",
      "----------------------------------\n",
      "Reading file: HGSM3B_0+1_20160305_060000.wav\n",
      "Reading file gibbon augmented file:  HGSM3B_0+1_20160305_060000\n",
      "Reading non-gibbon augmented file: HGSM3B_0+1_20160305_060000\n",
      "\n",
      "----------------------------------\n",
      "Reading file: HGSM3D_0+1_20160404_053500.wav\n",
      "Reading file gibbon augmented file:  HGSM3D_0+1_20160404_053500\n",
      "Reading non-gibbon augmented file: HGSM3D_0+1_20160404_053500\n",
      "\n",
      "----------------------------------\n",
      "Reading file: HGSM3D_0+1_20160603_050500.wav\n",
      "Reading file gibbon augmented file:  HGSM3D_0+1_20160603_050500\n",
      "Reading non-gibbon augmented file: HGSM3D_0+1_20160603_050500\n",
      "\n",
      "----------------------------------\n",
      "Reading file: HGSM3D_0+1_20160605_050500.wav\n",
      "Reading file gibbon augmented file:  HGSM3D_0+1_20160605_050500\n",
      "Reading non-gibbon augmented file: HGSM3D_0+1_20160605_050500\n",
      "\n",
      "----------------------------------\n",
      "Reading file: HGSM3D_0+1_20160608_050500.wav\n",
      "Reading file gibbon augmented file:  HGSM3D_0+1_20160608_050500\n",
      "Reading non-gibbon augmented file: HGSM3D_0+1_20160608_050500\n",
      "\n",
      "Gibbon features: (22620, 128, 188, 1)\n",
      "Non-gibbon features (22620, 128, 188, 1)\n",
      "\n",
      "----------------------------------\n",
      "Reading file: HGSM3B_0+1_20150616_050500.wav\n",
      "Reading file gibbon augmented file:  HGSM3B_0+1_20150616_050500\n",
      "Reading non-gibbon augmented file: HGSM3B_0+1_20150616_050500\n",
      "\n",
      "----------------------------------\n",
      "Reading file: HGSM3AB_0+1_20160318_054900.wav\n",
      "Reading file gibbon augmented file:  HGSM3AB_0+1_20160318_054900\n",
      "Reading non-gibbon augmented file: HGSM3AB_0+1_20160318_054900\n",
      "\n",
      "----------------------------------\n",
      "Reading file: HGSM3B_0+1_20160316_055100.wav\n",
      "Reading file gibbon augmented file:  HGSM3B_0+1_20160316_055100\n",
      "Reading non-gibbon augmented file: HGSM3B_0+1_20160316_055100\n",
      "\n",
      "----------------------------------\n",
      "Reading file: HGSM3B_0+1_20160330_053900.wav\n",
      "Reading file gibbon augmented file:  HGSM3B_0+1_20160330_053900\n",
      "Reading non-gibbon augmented file: HGSM3B_0+1_20160330_053900\n",
      "\n",
      "----------------------------------\n",
      "Reading file: HGSM3D_0+1_20160402_053600.wav\n",
      "Reading file gibbon augmented file:  HGSM3D_0+1_20160402_053600\n",
      "Reading non-gibbon augmented file: HGSM3D_0+1_20160402_053600\n",
      "\n",
      "----------------------------------\n",
      "Reading file: HGSM3D_0+1_20160403_053600.wav\n",
      "Reading file gibbon augmented file:  HGSM3D_0+1_20160403_053600\n",
      "Reading non-gibbon augmented file: HGSM3D_0+1_20160403_053600\n",
      "\n",
      "----------------------------------\n",
      "Reading file: HGSM3D_0+1_20160606_050500.wav\n",
      "Reading file gibbon augmented file:  HGSM3D_0+1_20160606_050500\n",
      "Reading non-gibbon augmented file: HGSM3D_0+1_20160606_050500\n",
      "\n",
      "----------------------------------\n",
      "Reading file: HGSM3D_0+1_20160607_050500.wav\n",
      "Reading file gibbon augmented file:  HGSM3D_0+1_20160607_050500\n",
      "Reading non-gibbon augmented file: HGSM3D_0+1_20160607_050500\n",
      "\n",
      "----------------------------------\n",
      "Reading file: HGSM3C_0+1_20160314_055200.wav\n",
      "Reading file gibbon augmented file:  HGSM3C_0+1_20160314_055200\n",
      "Reading non-gibbon augmented file: HGSM3C_0+1_20160314_055200\n",
      "\n",
      "----------------------------------\n",
      "Reading file: HGSM3C_0+1_20150809_052200.wav\n",
      "Reading file gibbon augmented file:  HGSM3C_0+1_20150809_052200\n",
      "Reading non-gibbon augmented file: HGSM3C_0+1_20150809_052200\n",
      "\n",
      "Gibbon features: (7540, 128, 188, 1)\n",
      "Non-gibbon features (7540, 128, 188, 1)\n",
      "\n",
      "Data loaded.\n",
      "Processing...\n",
      "Processing done.\n",
      "\n",
      "Shape of X (45240, 128, 188, 1)\n",
      "Shape of Y (45240, 2)\n",
      "Shape of X (15080, 128, 188, 1)\n",
      "Shape of Y (15080, 2)\n"
     ]
    }
   ],
   "source": [
    "    print('Loading data...')\n",
    "    training_files = []\n",
    "    validation_files = []\n",
    "    gibbon_X,non_gibbon_X = load_training_images(augment_image_directory, training_file)\n",
    "    gibbon_X_v,non_gibbon_X_v = load_training_images(augment_image_directory_validation, validation_file)\n",
    "    \n",
    "    print()\n",
    "    print ('Data loaded.')\n",
    "    print ('Processing...')\n",
    "    X_train, Y_train = prepare_X_and_Y(gibbon_X,non_gibbon_X)\n",
    "    del gibbon_X, non_gibbon_X\n",
    "    X_val, Y_val = prepare_X_and_Y(gibbon_X_v,non_gibbon_X_v)\n",
    "    del gibbon_X_v, non_gibbon_X_v    \n",
    "    print ('Processing done.')\n",
    "    print()\n",
    "    print ('Shape of X', X_train.shape)\n",
    "    print ('Shape of Y', Y_train.shape) #3310 #796  #38\n",
    "    print ('Shape of X', X_val.shape)\n",
    "    print ('Shape of Y', Y_val.shape)"
   ]
  },
  {
   "cell_type": "code",
   "execution_count": 5,
   "metadata": {
    "id": "hY6_8s6hSa_W"
   },
   "outputs": [
    {
     "name": "stdout",
     "output_type": "stream",
     "text": [
      "Iteration 0 starting...\n",
      "experiment_id: 0\n",
      "X_train: (45240, 128, 188, 1)\n",
      "Y_train: (45240, 2)\n",
      "\n",
      "X_val: (15080, 128, 188, 1)\n",
      "Y_val: (15080, 2)\n",
      "Model: \"sequential\"\n",
      "_________________________________________________________________\n",
      " Layer (type)                Output Shape              Param #   \n",
      "=================================================================\n",
      " conv2d (Conv2D)             (None, 113, 173, 8)       2056      \n",
      "                                                                 \n",
      " dropout (Dropout)           (None, 113, 173, 8)       0         \n",
      "                                                                 \n",
      " max_pooling2d (MaxPooling2D  (None, 28, 43, 8)        0         \n",
      " )                                                               \n",
      "                                                                 \n",
      " conv2d_1 (Conv2D)           (None, 13, 28, 8)         16392     \n",
      "                                                                 \n",
      " dropout_1 (Dropout)         (None, 13, 28, 8)         0         \n",
      "                                                                 \n",
      " max_pooling2d_1 (MaxPooling  (None, 3, 7, 8)          0         \n",
      " 2D)                                                             \n",
      "                                                                 \n",
      " flatten (Flatten)           (None, 168)               0         \n",
      "                                                                 \n",
      " dense (Dense)               (None, 32)                5408      \n",
      "                                                                 \n",
      " dropout_2 (Dropout)         (None, 32)                0         \n",
      "                                                                 \n",
      " dense_1 (Dense)             (None, 2)                 66        \n",
      "                                                                 \n",
      "=================================================================\n",
      "Total params: 23,922\n",
      "Trainable params: 23,922\n",
      "Non-trainable params: 0\n",
      "_________________________________________________________________\n",
      "Epoch 1/20\n",
      "\n",
      "Epoch 1: val_accuracy improved from -inf to 0.88773, saving model to Experiments\\weights_2022.hdf5\n",
      "1414/1414 - 647s - loss: 0.3864 - accuracy: 0.8312 - val_loss: 0.3110 - val_accuracy: 0.8877 - 647s/epoch - 457ms/step\n",
      "Epoch 2/20\n",
      "\n",
      "Epoch 2: val_accuracy improved from 0.88773 to 0.91976, saving model to Experiments\\weights_2022.hdf5\n",
      "1414/1414 - 667s - loss: 0.2223 - accuracy: 0.9115 - val_loss: 0.2411 - val_accuracy: 0.9198 - 667s/epoch - 471ms/step\n",
      "Epoch 3/20\n",
      "\n",
      "Epoch 3: val_accuracy improved from 0.91976 to 0.92672, saving model to Experiments\\weights_2022.hdf5\n",
      "1414/1414 - 674s - loss: 0.1465 - accuracy: 0.9450 - val_loss: 0.2432 - val_accuracy: 0.9267 - 674s/epoch - 476ms/step\n",
      "Epoch 4/20\n",
      "\n",
      "Epoch 4: val_accuracy improved from 0.92672 to 0.92898, saving model to Experiments\\weights_2022.hdf5\n",
      "1414/1414 - 666s - loss: 0.0958 - accuracy: 0.9673 - val_loss: 0.2367 - val_accuracy: 0.9290 - 666s/epoch - 471ms/step\n",
      "Epoch 5/20\n",
      "\n",
      "Epoch 5: val_accuracy improved from 0.92898 to 0.95033, saving model to Experiments\\weights_2022.hdf5\n",
      "1414/1414 - 663s - loss: 0.0799 - accuracy: 0.9735 - val_loss: 0.1648 - val_accuracy: 0.9503 - 663s/epoch - 469ms/step\n",
      "Epoch 6/20\n",
      "\n",
      "Epoch 6: val_accuracy improved from 0.95033 to 0.95252, saving model to Experiments\\weights_2022.hdf5\n",
      "1414/1414 - 736s - loss: 0.0576 - accuracy: 0.9803 - val_loss: 0.1866 - val_accuracy: 0.9525 - 736s/epoch - 520ms/step\n",
      "Epoch 7/20\n",
      "\n",
      "Epoch 7: val_accuracy did not improve from 0.95252\n",
      "1414/1414 - 1252s - loss: 0.0453 - accuracy: 0.9842 - val_loss: 0.2678 - val_accuracy: 0.9400 - 1252s/epoch - 885ms/step\n",
      "Epoch 8/20\n",
      "\n",
      "Epoch 8: val_accuracy did not improve from 0.95252\n",
      "1414/1414 - 1257s - loss: 0.0371 - accuracy: 0.9880 - val_loss: 0.2788 - val_accuracy: 0.9336 - 1257s/epoch - 889ms/step\n",
      "Epoch 9/20\n",
      "\n",
      "Epoch 9: val_accuracy did not improve from 0.95252\n",
      "1414/1414 - 1248s - loss: 0.0390 - accuracy: 0.9876 - val_loss: 0.2381 - val_accuracy: 0.9459 - 1248s/epoch - 883ms/step\n",
      "Epoch 10/20\n",
      "\n",
      "Epoch 10: val_accuracy did not improve from 0.95252\n",
      "1414/1414 - 1244s - loss: 0.0303 - accuracy: 0.9905 - val_loss: 0.2158 - val_accuracy: 0.9452 - 1244s/epoch - 879ms/step\n",
      "Epoch 11/20\n",
      "\n",
      "Epoch 11: val_accuracy did not improve from 0.95252\n",
      "1414/1414 - 630s - loss: 0.0350 - accuracy: 0.9902 - val_loss: 0.2630 - val_accuracy: 0.9510 - 630s/epoch - 445ms/step\n",
      "Epoch 12/20\n",
      "\n",
      "Epoch 12: val_accuracy did not improve from 0.95252\n",
      "1414/1414 - 658s - loss: 0.0225 - accuracy: 0.9928 - val_loss: 0.2923 - val_accuracy: 0.9483 - 658s/epoch - 465ms/step\n",
      "Epoch 13/20\n",
      "\n",
      "Epoch 13: val_accuracy improved from 0.95252 to 0.95802, saving model to Experiments\\weights_2022.hdf5\n",
      "1414/1414 - 658s - loss: 0.0269 - accuracy: 0.9916 - val_loss: 0.2264 - val_accuracy: 0.9580 - 658s/epoch - 465ms/step\n",
      "Epoch 14/20\n",
      "\n",
      "Epoch 14: val_accuracy did not improve from 0.95802\n",
      "1414/1414 - 1238s - loss: 0.0266 - accuracy: 0.9924 - val_loss: 0.3113 - val_accuracy: 0.9434 - 1238s/epoch - 875ms/step\n",
      "Epoch 15/20\n",
      "\n",
      "Epoch 15: val_accuracy did not improve from 0.95802\n",
      "1414/1414 - 1251s - loss: 0.0184 - accuracy: 0.9946 - val_loss: 0.2907 - val_accuracy: 0.9468 - 1251s/epoch - 885ms/step\n",
      "Epoch 16/20\n",
      "\n",
      "Epoch 16: val_accuracy did not improve from 0.95802\n",
      "1414/1414 - 1254s - loss: 0.0163 - accuracy: 0.9950 - val_loss: 0.3081 - val_accuracy: 0.9428 - 1254s/epoch - 887ms/step\n",
      "Epoch 17/20\n",
      "\n",
      "Epoch 17: val_accuracy did not improve from 0.95802\n",
      "1414/1414 - 1253s - loss: 0.0237 - accuracy: 0.9931 - val_loss: 0.2709 - val_accuracy: 0.9556 - 1253s/epoch - 886ms/step\n",
      "Epoch 18/20\n",
      "\n",
      "Epoch 18: val_accuracy did not improve from 0.95802\n",
      "1414/1414 - 1255s - loss: 0.0159 - accuracy: 0.9953 - val_loss: 0.2785 - val_accuracy: 0.9553 - 1255s/epoch - 887ms/step\n",
      "Epoch 19/20\n",
      "\n",
      "Epoch 19: val_accuracy did not improve from 0.95802\n",
      "1414/1414 - 1258s - loss: 0.0192 - accuracy: 0.9941 - val_loss: 0.3166 - val_accuracy: 0.9520 - 1258s/epoch - 890ms/step\n",
      "Epoch 20/20\n",
      "\n",
      "Epoch 20: val_accuracy did not improve from 0.95802\n",
      "1414/1414 - 1253s - loss: 0.0126 - accuracy: 0.9960 - val_loss: 0.3458 - val_accuracy: 0.9519 - 1253s/epoch - 886ms/step\n",
      "training accuracy =  0.9629531388152078\n",
      "validation accuracy =  0.9580238726790451\n"
     ]
    }
   ],
   "source": [
    "seed = 2022\n",
    "        \n",
    "for experiment_id in range(0,number_iterations):\n",
    "\n",
    "        print('Iteration {} starting...'.format(experiment_id))\n",
    "\n",
    "        print ('experiment_id: {}'.format(experiment_id))\n",
    "\n",
    "        \n",
    "        #X_train, X_val, Y_train, Y_val = train_test_split(X, Y, test_size=0.20, \n",
    "        #                                                    random_state=seed, shuffle = True)\n",
    "        X_train, Y_train = shuffle(X_train,Y_train)\n",
    "        X_val, Y_val = shuffle(X_val,Y_val)\n",
    "        \n",
    "        # Check shape\n",
    "        print ('X_train:',X_train.shape)\n",
    "        print ('Y_train:',Y_train.shape)\n",
    "        print ()\n",
    "        print ('X_val:',X_val.shape)\n",
    "        print ('Y_val:',Y_val.shape)\n",
    "\n",
    "        # Call backs to save weights\n",
    "        filepath= \"Experiments/weights_{}.hdf5\".format(seed)\n",
    "        checkpoint = ModelCheckpoint(filepath, monitor='val_accuracy',verbose=1, save_best_only=True, mode='max')\n",
    "        #callbacks_list = [checkpoint]\n",
    "        \n",
    "        model = network()\n",
    "        model.compile(loss='categorical_crossentropy', optimizer='adam',metrics=['accuracy'])\n",
    "        \n",
    "        model.summary()\n",
    "        \n",
    "        start = time.time()\n",
    "\n",
    "        history = model.fit(X_train, Y_train, validation_data=(X_val, Y_val), \n",
    "                  batch_size=32,\n",
    "                  epochs=20,\n",
    "                  verbose=2, \n",
    "                  callbacks=[checkpoint]) \n",
    "                  #class_weight={0:1.,1:1.}\n",
    "        end = time.time()\n",
    "        \n",
    "        model.load_weights(\"Experiments/weights_{}.hdf5\".format(seed))\n",
    "        \n",
    "        train_acc = accuracy_score(np.argmax(model.predict(X_train),1),np.argmax(Y_train,1))\n",
    "        print(\"training accuracy = \",train_acc)\n",
    "\n",
    "        val_acc = accuracy_score(np.argmax(model.predict(X_val),1), np.argmax(Y_val,1))\n",
    "        print(\"validation accuracy = \",val_acc)\n",
    "\n",
    "        "
   ]
  },
  {
   "cell_type": "code",
   "execution_count": 6,
   "metadata": {},
   "outputs": [
    {
     "data": {
      "image/png": "[encoded data removed]",
      "text/plain": [
       "<Figure size 432x288 with 1 Axes>"
      ]
     },
     "metadata": {
      "needs_background": "light"
     },
     "output_type": "display_data"
    }
   ],
   "source": [
    "plt.plot(history.history['accuracy'])\n",
    "plt.plot(history.history['val_accuracy'])\n",
    "plt.title('model accuracy')\n",
    "plt.ylabel('accuracy')\n",
    "plt.xlabel('epoch')\n",
    "plt.legend(['train', 'val'], loc='upper left')\n",
    "plt.show()"
   ]
  },
  {
   "cell_type": "code",
   "execution_count": 7,
   "metadata": {},
   "outputs": [
    {
     "data": {
      "image/png": "[encoded data removed]",
      "text/plain": [
       "<Figure size 432x288 with 1 Axes>"
      ]
     },
     "metadata": {
      "needs_background": "light"
     },
     "output_type": "display_data"
    }
   ],
   "source": [
    "plt.plot(history.history['loss'])\n",
    "plt.plot(history.history['val_loss'])\n",
    "plt.title('model loss')\n",
    "plt.ylabel('loss')\n",
    "plt.xlabel('epoch')\n",
    "plt.legend(['train', 'validation'], loc='upper left')\n",
    "plt.show()"
   ]
  },
  {
   "cell_type": "code",
   "execution_count": null,
   "metadata": {},
   "outputs": [],
   "source": [
    "# hyperparameter optimization\n",
    "from sklearn.model_selection import GridSearchCV\n",
    "from keras.wrappers.scikit_learn import KerasClassifier\n",
    "\n",
    "# optimize model \n",
    "start = time.time()\n",
    "\n",
    "# create model\n",
    "model = KerasClassifier(build_fn=network, verbose=1)\n",
    "\n",
    "# define parameters and values for grid search \n",
    "param_grid = {\n",
    "    'drop_out': [0.0,0.2,0.4],\n",
    "    'batch_size': [8,16],    \n",
    "    'epochs': [7],\n",
    "}\n",
    "\n",
    "grid = GridSearchCV(estimator=model, param_grid=param_grid, n_jobs=-1, cv=2)\n",
    "grid_result = grid.fit(X_train, to_categorical(Y_train))\n",
    "\n",
    "# summarize results\n",
    "print('time for grid search = {:.0f} sec'.format(time.time()-start))\n",
    "display_cv_results(grid_result)"
   ]
  },
  {
   "cell_type": "code",
   "execution_count": 22,
   "metadata": {},
   "outputs": [
    {
     "name": "stdout",
     "output_type": "stream",
     "text": [
      "Model 1:\n",
      "training accuracy =  0.9987179487179487\n",
      "validation accuracy =  0.9701591511936339\n",
      "Model 2:\n",
      "training accuracy =  0.9842617152961981\n",
      "validation accuracy =  0.9436339522546419\n",
      "Model 3:\n",
      "training accuracy =  0.9667771883289125\n",
      "validation accuracy =  0.9679045092838197\n",
      "Model 4:\n",
      "training accuracy =  0.983554376657825\n",
      "validation accuracy =  0.9618700265251989\n",
      "Model 5:\n",
      "training accuracy =  0.9923076923076923\n",
      "validation accuracy =  0.929973474801061\n",
      "Model 6:\n",
      "training accuracy =  0.990340406719717\n",
      "validation accuracy =  0.931763925729443\n"
     ]
    }
   ],
   "source": [
    "#Model metrics\n",
    "print('Model 1:')\n",
    "print(\"training accuracy = \",train_acc1)\n",
    "print(\"validation accuracy = \",val_acc1)\n",
    "print('Model 2:')\n",
    "print(\"training accuracy = \",train_acc2)\n",
    "print(\"validation accuracy = \",val_acc2)\n",
    "print('Model 3:')\n",
    "print(\"training accuracy = \",train_acc3)\n",
    "print(\"validation accuracy = \",val_acc3)\n",
    "print('Model 4:')\n",
    "print(\"training accuracy = \",train_acc4)\n",
    "print(\"validation accuracy = \",val_acc4)\n",
    "print('Model 5:')\n",
    "print(\"training accuracy = \",train_acc5)\n",
    "print(\"validation accuracy = \",val_acc5)\n",
    "print('Model 6:')\n",
    "print(\"training accuracy = \",train_acc6)\n",
    "print(\"validation accuracy = \",val_acc6)"
   ]
  },
  {
   "cell_type": "code",
   "execution_count": 20,
   "metadata": {
    "id": "GdQZfotlSa_Y",
    "outputId": "61c22881-42e4-47ae-8c9d-785ff375be41"
   },
   "outputs": [
    {
     "data": {
      "image/png": "[encoded data removed]",
      "text/plain": [
       "<Figure size 432x288 with 1 Axes>"
      ]
     },
     "metadata": {
      "needs_background": "light"
     },
     "output_type": "display_data"
    }
   ],
   "source": [
    "plt.plot(history4.history['accuracy'])\n",
    "plt.plot(history4.history['val_accuracy'])\n",
    "plt.title('model accuracy')\n",
    "plt.ylabel('accuracy')\n",
    "plt.xlabel('epoch')\n",
    "plt.legend(['train', 'val'], loc='upper left')\n",
    "plt.show()"
   ]
  },
  {
   "cell_type": "code",
   "execution_count": 21,
   "metadata": {
    "id": "AT4IEhKUSa_Y",
    "outputId": "7e44b31d-c986-4864-ffb9-8feabd26e856"
   },
   "outputs": [
    {
     "data": {
      "image/png": "[encoded data removed]",
      "text/plain": [
       "<Figure size 432x288 with 1 Axes>"
      ]
     },
     "metadata": {
      "needs_background": "light"
     },
     "output_type": "display_data"
    }
   ],
   "source": [
    "plt.plot(history4.history['loss'])\n",
    "plt.plot(history4.history['val_loss'])\n",
    "plt.title('model loss')\n",
    "plt.ylabel('loss')\n",
    "plt.xlabel('epoch')\n",
    "plt.legend(['train', 'validation'], loc='upper left')\n",
    "plt.show()"
   ]
  },
  {
   "cell_type": "code",
   "execution_count": 12,
   "metadata": {},
   "outputs": [
    {
     "name": "stdout",
     "output_type": "stream",
     "text": [
      "\n",
      "----------------------------------\n",
      "Reading file: HGSM3A_0+1_20160316_055100.wav\n",
      "Reading file gibbon augmented file:  HGSM3A_0+1_20160316_055100\n",
      "\n",
      "----------------------------------\n",
      "Reading file: HGSM3B_0+1_20150920_053200.wav\n",
      "Reading file gibbon augmented file:  HGSM3B_0+1_20150920_053200\n",
      "\n",
      "----------------------------------\n",
      "Reading file: HGSM3B_0+1_20150923_053200.wav\n",
      "Reading file gibbon augmented file:  HGSM3B_0+1_20150923_053200\n",
      "\n",
      "----------------------------------\n",
      "Reading file: HGSM3A_0+1_20150625_050700.wav\n",
      "Reading file gibbon augmented file:  HGSM3A_0+1_20150625_050700\n",
      "\n",
      "----------------------------------\n",
      "Reading file: HGSM3A_0+1_20160317_055000.wav\n",
      "Reading file gibbon augmented file:  HGSM3A_0+1_20160317_055000\n",
      "\n",
      "----------------------------------\n",
      "Reading file: HGSM3D_0+1_20160404_053500.wav\n",
      "Reading file gibbon augmented file:  HGSM3D_0+1_20160404_053500\n",
      "\n",
      "----------------------------------\n",
      "Reading file: HGSM3B_0+1_20150803_052000.wav\n",
      "Reading file gibbon augmented file:  HGSM3B_0+1_20150803_052000\n",
      "Reading non-gibbon augmented file: HGSM3B_0+1_20150803_052000\n",
      "\n",
      "----------------------------------\n",
      "Reading file: HGSM3B_0+1_20160315_055200.wav\n",
      "Reading file gibbon augmented file:  HGSM3B_0+1_20160315_055200\n",
      "\n",
      "----------------------------------\n",
      "Reading file: HGSM3B_0+1_20160317_055000.wav\n",
      "Reading file gibbon augmented file:  HGSM3B_0+1_20160317_055000\n",
      "\n",
      "----------------------------------\n",
      "Reading file: HGSM3D_0+1_20160429_051600.wav\n",
      "Reading file gibbon augmented file:  HGSM3D_0+1_20160429_051600\n",
      "Reading non-gibbon augmented file: HGSM3D_0+1_20160429_051600\n",
      "\n",
      "----------------------------------\n",
      "Reading file: HGSM3C_0+1_20150808_052200.wav\n",
      "Reading file gibbon augmented file:  HGSM3C_0+1_20150808_052200\n",
      "Reading non-gibbon augmented file: HGSM3C_0+1_20150808_052200\n",
      "\n",
      "----------------------------------\n",
      "Reading file: HGSM3A_0+1_20160314_055200.wav\n",
      "Reading file gibbon augmented file:  HGSM3A_0+1_20160314_055200\n",
      "\n",
      "----------------------------------\n",
      "Reading file: HGSM3B_0+1_20150919_053100.wav\n",
      "Reading file gibbon augmented file:  HGSM3B_0+1_20150919_053100\n",
      "\n",
      "Gibbon features: (1027, 128, 188, 1)\n",
      "Non-gibbon features (1255, 128, 188, 1)\n"
     ]
    }
   ],
   "source": [
    "gibbon_X_test,non_gibbon_X_test = load_training_images(augment_directory_testing, testing_file)\n",
    "Y_gibbon = np.ones(len(gibbon_X_test))*1\n",
    "Y_noise = np.zeros(len(non_gibbon_X_test))\n",
    "X_test = np.concatenate([gibbon_X_test,non_gibbon_X_test])\n",
    "#del gibbon_XB, gibbon_XC, gibbon_XD, non_gibbon_X\n",
    "Y = np.concatenate([Y_gibbon,Y_noise])\n",
    "#del YB_gibbon,YC_gibbon,YD_gibbon,Y_noise\n",
    "Y_test  = to_categorical(Y)"
   ]
  },
  {
   "cell_type": "code",
   "execution_count": 24,
   "metadata": {
    "id": "cPvhk-6PSa_Z",
    "outputId": "f8f45e61-75f2-4066-9fbe-dd3bf8507b55"
   },
   "outputs": [
    {
     "name": "stdout",
     "output_type": "stream",
     "text": [
      "training accuracy =  0.983554376657825\n",
      "validation accuracy =  0.9618700265251989\n",
      "testing accuracy =  0.8834355828220859\n",
      "\n",
      "Plotting performance on test data.\n",
      "Normalized confusion matrix\n",
      "[[0.9  0.1 ]\n",
      " [0.14 0.86]]\n"
     ]
    },
    {
     "data": {
      "text/plain": [
       "<Figure size 432x288 with 0 Axes>"
      ]
     },
     "metadata": {},
     "output_type": "display_data"
    },
    {
     "data": {
      "image/png": "[encoded data removed]",
      "text/plain": [
       "<Figure size 432x288 with 2 Axes>"
      ]
     },
     "metadata": {
      "needs_background": "light"
     },
     "output_type": "display_data"
    }
   ],
   "source": [
    "\n",
    "print(\"training accuracy = \",train_acc4)\n",
    "\n",
    "print(\"validation accuracy = \",val_acc4)\n",
    "\n",
    "test_acc = accuracy_score(np.argmax(model4.predict(X_test),1), np.argmax(Y_test,1))\n",
    "print(\"testing accuracy = \",test_acc)\n",
    "\n",
    "# _Compute confusion matrix\n",
    "cnf_matrix = confusion_matrix(np.argmax(Y_test,1), np.argmax(model4.predict(X_test),1))\n",
    "np.set_printoptions(precision=2)\n",
    "\n",
    "# Plot non-normalized confusion matrix\n",
    "plt.figure()\n",
    "class_names=['0','1']\n",
    "\n",
    "print ()\n",
    "print ('Plotting performance on test data.')\n",
    "# Plot normalized confusion matrix\n",
    "plt.figure()\n",
    "plot_confusion_matrix(cnf_matrix, classes=class_names, normalize=True,\n",
    "                        title='Normalized confusion matrix')\n",
    "\n",
    "#percision and recall. add more matric...\n",
    "\n",
    "plt.show()"
   ]
  },
  {
   "cell_type": "code",
   "execution_count": 31,
   "metadata": {
    "id": "-7neWtovSa_b",
    "outputId": "bc94c560-4751-4bcc-8bac-cf960ebbf71a"
   },
   "outputs": [
    {
     "name": "stdout",
     "output_type": "stream",
     "text": [
      "\n",
      "Classification Report\n",
      "\n",
      "              precision    recall  f1-score   support\n",
      "\n",
      "     Class 0       0.89      0.90      0.90      1255\n",
      "     Class 1       0.88      0.86      0.87      1027\n",
      "\n",
      "    accuracy                           0.88      2282\n",
      "   macro avg       0.88      0.88      0.88      2282\n",
      "weighted avg       0.88      0.88      0.88      2282\n",
      "\n"
     ]
    }
   ],
   "source": [
    "from sklearn.metrics import classification_report\n",
    "print('\\nClassification Report\\n') \n",
    "print(classification_report(np.argmax(Y_test,1),np.argmax(model4.predict(X_test),1), target_names=['Class 0','Class 1']))\n"
   ]
  }
 ],
 "metadata": {
  "colab": {
   "name": "Train-Binary.ipynb",
   "provenance": []
  },
  "kernelspec": {
   "display_name": "gpu2",
   "language": "python",
   "name": "gpu2"
  },
  "language_info": {
   "codemirror_mode": {
    "name": "ipython",
    "version": 3
   },
   "file_extension": ".py",
   "mimetype": "text/x-python",
   "name": "python",
   "nbconvert_exporter": "python",
   "pygments_lexer": "ipython3",
   "version": "3.9.7"
  }
 },
 "nbformat": 4,
 "nbformat_minor": 1
}
